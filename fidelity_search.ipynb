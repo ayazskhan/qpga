{
 "cells": [
  {
   "cell_type": "markdown",
   "metadata": {},
   "source": [
    "# QPGA fidelity search"
   ]
  },
  {
   "cell_type": "code",
   "execution_count": 1,
   "metadata": {},
   "outputs": [
    {
     "name": "stderr",
     "output_type": "stream",
     "text": [
      "Using TensorFlow backend.\n"
     ]
    }
   ],
   "source": [
    "import numpy as np\n",
    "import matplotlib.pyplot as plt\n",
    "import tensorflow as tf\n",
    "import keras\n",
    "import qutip\n",
    "\n",
    "import sys; sys.path.append(\"../../../Archive/Research/INQNET/superdense\")\n",
    "import squanch\n",
    "\n",
    "from keras import backend as K\n",
    "from keras.models import Sequential\n",
    "from keras.optimizers import SGD, Adam\n",
    "\n",
    "from tqdm import tqdm_notebook as pbar\n",
    "\n",
    "K.set_floatx('float64')\n",
    "\n",
    "from qpga import *"
   ]
  },
  {
   "cell_type": "code",
   "execution_count": 2,
   "metadata": {},
   "outputs": [],
   "source": [
    "def QFT(qubits):\n",
    "    '''Applies quantum Fourier transform to inputs'''\n",
    "    count = 0\n",
    "    N = len(qubits)\n",
    "    for n in range(N, 0, -1):\n",
    "        target = qubits[N - n]\n",
    "        squanch.H(target)\n",
    "        count += 1\n",
    "        for m in range(1, n):\n",
    "            squanch.CPHASE(qubits[N - n + m], target,2*np.pi/2**(m+1))\n",
    "            count += 1\n",
    "    return count"
   ]
  },
  {
   "cell_type": "code",
   "execution_count": 3,
   "metadata": {},
   "outputs": [
    {
     "name": "stdout",
     "output_type": "stream",
     "text": [
      "21\n"
     ]
    },
    {
     "data": {
      "application/vnd.jupyter.widget-view+json": {
       "model_id": "137d312dea3145bba74e606680debbb7",
       "version_major": 2,
       "version_minor": 0
      },
      "text/plain": [
       "HBox(children=(IntProgress(value=0, max=10), HTML(value='')))"
      ]
     },
     "metadata": {},
     "output_type": "display_data"
    },
    {
     "name": "stderr",
     "output_type": "stream",
     "text": [
      "WARNING: Logging before flag parsing goes to stderr.\n",
      "W0722 17:44:12.041096 4657685952 deprecation_wrapper.py:119] From /Users/ben/anaconda3/lib/python3.7/site-packages/keras/backend/tensorflow_backend.py:74: The name tf.get_default_graph is deprecated. Please use tf.compat.v1.get_default_graph instead.\n",
      "\n",
      "W0722 17:44:12.066020 4657685952 deprecation_wrapper.py:119] From /Users/ben/anaconda3/lib/python3.7/site-packages/keras/optimizers.py:790: The name tf.train.Optimizer is deprecated. Please use tf.compat.v1.train.Optimizer instead.\n",
      "\n",
      "W0722 17:44:12.066792 4657685952 deprecation_wrapper.py:119] From /Users/ben/anaconda3/lib/python3.7/site-packages/keras/backend/tensorflow_backend.py:517: The name tf.placeholder is deprecated. Please use tf.compat.v1.placeholder instead.\n",
      "\n",
      "W0722 17:44:12.080037 4657685952 deprecation_wrapper.py:119] From /Users/ben/anaconda3/lib/python3.7/site-packages/keras/backend/tensorflow_backend.py:4138: The name tf.random_uniform is deprecated. Please use tf.random.uniform instead.\n",
      "\n",
      "W0722 17:44:16.458682 4657685952 deprecation_wrapper.py:119] From /Users/ben/Dropbox/Research/QuantumOptics/qpga-sim/qpga/utils.py:32: The name tf.real is deprecated. Please use tf.math.real instead.\n",
      "\n",
      "W0722 17:44:16.460320 4657685952 deprecation_wrapper.py:119] From /Users/ben/Dropbox/Research/QuantumOptics/qpga-sim/qpga/utils.py:32: The name tf.imag is deprecated. Please use tf.math.imag instead.\n",
      "\n",
      "W0722 17:44:16.844016 4657685952 deprecation.py:323] From /Users/ben/anaconda3/lib/python3.7/site-packages/tensorflow/python/ops/math_grad.py:1205: add_dispatch_support.<locals>.wrapper (from tensorflow.python.ops.array_ops) is deprecated and will be removed in a future version.\n",
      "Instructions for updating:\n",
      "Use tf.where in 2.0, which has the same broadcast rule as np.where\n"
     ]
    },
    {
     "name": "stdout",
     "output_type": "stream",
     "text": [
      "\n"
     ]
    }
   ],
   "source": [
    "N = 6\n",
    "states = np.array([get_random_state_vector(N) for _ in range(10000)])\n",
    "states[0] = np.array([1]  + [0] * (2**N - 1), dtype=np.complex128)\n",
    "\n",
    "qstream = squanch.QStream.from_array(np.copy(states), use_density_matrix=False)\n",
    "for qsys in qstream:\n",
    "    gate_depth = QFT(list(qsys.qubits))\n",
    "print(gate_depth)\n",
    "    \n",
    "out_states = np.copy(qstream.state)\n",
    "\n",
    "in_data = np_to_k_complex(states)\n",
    "out_data = np_to_k_complex(out_states)\n",
    "\n",
    "learning_rate = 0.001 # 2**N * 0.001 \n",
    "\n",
    "depths = N + 3 * np.array([1, 2, 3, 4, 5, 6, 7, 8, 8, 10])\n",
    "fidelities = []\n",
    "\n",
    "for depth in pbar(depths):\n",
    "    \n",
    "    model = QPGA(N, depth).as_sequential()\n",
    "    model.compile(optimizer=Adam(lr=learning_rate), \n",
    "                  loss=antifidelity, \n",
    "                  metrics=[antifidelity, 'mse'])\n",
    "\n",
    "    callback = keras.callbacks.History()\n",
    "    history = model.fit(in_data, out_data, epochs=15, callbacks=[callback], verbose = 0)\n",
    "    \n",
    "    fidelity = 1 - history.history[\"antifidelity\"][-1]\n",
    "    fidelities.append(fidelity)"
   ]
  },
  {
   "cell_type": "code",
   "execution_count": 6,
   "metadata": {},
   "outputs": [
    {
     "data": {
      "text/plain": [
       "[<matplotlib.lines.Line2D at 0x1b0b7f2ba8>]"
      ]
     },
     "execution_count": 6,
     "metadata": {},
     "output_type": "execute_result"
    },
    {
     "data": {
      "image/png": "[encoded data removed]",
      "text/plain": [
       "<Figure size 432x288 with 1 Axes>"
      ]
     },
     "metadata": {
      "needs_background": "light"
     },
     "output_type": "display_data"
    }
   ],
   "source": [
    "plt.plot(depths, fidelities)"
   ]
  },
  {
   "cell_type": "code",
   "execution_count": 7,
   "metadata": {},
   "outputs": [
    {
     "data": {
      "text/plain": [
       "([0.7118584964904024,\n",
       "  0.8237913567675316,\n",
       "  0.9029546611317794,\n",
       "  0.8466680930962479,\n",
       "  0.9222951509934948,\n",
       "  0.9681834179327199,\n",
       "  0.9743086181235378,\n",
       "  0.9423790183295163,\n",
       "  0.9577675755668338,\n",
       "  0.9831654438735083],\n",
       " array([ 9, 12, 15, 18, 21, 24, 27, 30, 30, 36]))"
      ]
     },
     "execution_count": 7,
     "metadata": {},
     "output_type": "execute_result"
    }
   ],
   "source": [
    "fidelities, depths"
   ]
  },
  {
   "cell_type": "code",
   "execution_count": null,
   "metadata": {},
   "outputs": [],
   "source": []
  }
 ],
 "metadata": {
  "kernelspec": {
   "display_name": "Python 3",
   "language": "python",
   "name": "python3"
  },
  "language_info": {
   "codemirror_mode": {
    "name": "ipython",
    "version": 3
   },
   "file_extension": ".py",
   "mimetype": "text/x-python",
   "name": "python",
   "nbconvert_exporter": "python",
   "pygments_lexer": "ipython3",
   "version": "3.7.3"
  }
 },
 "nbformat": 4,
 "nbformat_minor": 2
}
