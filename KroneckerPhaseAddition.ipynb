{
 "cells": [
  {
   "cell_type": "markdown",
   "metadata": {},
   "source": [
    "# Kronecker Phase Addition\n",
    "\n",
    "Kronecker phase addition is a term I made up. Note sure if there is any proof of this exact thing in quantum computing literature, but it seems pretty fundamental so it's probably somewhere!\n",
    "\n",
    "The key idea in Kronecker phase addition is to find the linear operator $F \\in \\mathbb{R}^{N \\times 2^N}$ that maps a layer of phases in a dual rail qubit system to tensor product space. Mathematically representing this tensor product, we have:\n",
    "\n",
    "$$\n",
    "\\begin{align}\n",
    "D &\\equiv \\bigotimes_{n = 0}^{N-1} \\begin{bmatrix}\n",
    "e^{i\\phi_0^{(n)}}& 0\\\\\n",
    "0 & e^{i\\phi_1^{(n)}}\n",
    "\\end{bmatrix}\n",
    "\\end{align},\n",
    "$$\n",
    "which we know must also in turn be a diagonal matrix by virtue of the diagonal tensor product rule.\n",
    "\n",
    "In fact, there is a simple expression for each element of this diagonal that can be proven straightforwardly by induction:\n",
    "\n",
    "$$\n",
    "\\begin{align}\n",
    "\\angle D_{mm} &= \\sum_{n=0}^{N-1} \\phi_{0}^{(n)} \\cdot \\mathbb{1}(m (\\mathrm{mod}\\ 2^{n + 1}) < 2^{n }) + \\phi_{1}^{(n)} \\cdot \\mathbb{1}(m (\\mathrm{mod}\\ 2^{n + 1}) \\geq 2^{n}),\n",
    "\\end{align}\n",
    "$$\n",
    "where $\\angle D_{mm}$ represents the phase shift of the $m$th diagonal element of $D$ (where $m \\in [1, 2, \\ldots 2^N]$) and $\\mathbb{1}$ is an indicator function. The operator $F$ satisfies the above expression.\n",
    "\n",
    "This notebook is meant to run tests to demonstrate the above expression holds for some random selection of $\\phi$."
   ]
  },
  {
   "cell_type": "code",
   "execution_count": 1,
   "metadata": {},
   "outputs": [],
   "source": [
    "import numpy as np\n",
    "import tensorflow as tf\n",
    "tf.enable_eager_execution()"
   ]
  },
  {
   "cell_type": "code",
   "execution_count": 2,
   "metadata": {},
   "outputs": [],
   "source": [
    "N = 4\n",
    "phi = np.random.rand(N)"
   ]
  },
  {
   "cell_type": "code",
   "execution_count": 4,
   "metadata": {},
   "outputs": [],
   "source": [
    "np_tensorprod = np.diag((np.exp(1j * phi[0]), np.exp(1j * (1 - phi[0]))))\n",
    "for i in range(1, len(phi)):\n",
    "    np_tensorprod = np.kron(np_tensorprod, np.diag((np.exp(1j * phi[i]), np.exp(1j * (1 - phi[i])))))\n",
    "np_tensorprod = np.diag(np_tensorprod)"
   ]
  },
  {
   "cell_type": "code",
   "execution_count": 6,
   "metadata": {},
   "outputs": [],
   "source": [
    "def kronecker_phase_adder(phi_0, phi_1, num_qubits, qubit_idx):\n",
    "    frequency = 2 ** (num_qubits - qubit_idx - 1)\n",
    "    block_size = 2 ** qubit_idx\n",
    "    return tf.reshape(tf.concat((phi_0[qubit_idx] * tf.ones((block_size, frequency), dtype=tf.float64),\n",
    "                                 phi_1[qubit_idx] * tf.ones((block_size, frequency), dtype=tf.float64)), axis=1),\n",
    "                      shape=(2 ** num_qubits,))\n",
    "\n",
    "def phase_shifts_to_tensor_product_space_v2(phi_0, phi_1, num_qubits):\n",
    "    phi = tf.add_n([kronecker_phase_adder(phi_0, phi_1, num_qubits, qubit_idx)\n",
    "                    for qubit_idx in range(num_qubits)])\n",
    "    return tf.complex(tf.cos(phi), tf.sin(phi))\n",
    "\n",
    "tf_tensorprod = phase_shifts_to_tensor_product_space_v2(phi, 1 - phi, N)"
   ]
  },
  {
   "cell_type": "code",
   "execution_count": 7,
   "metadata": {},
   "outputs": [
    {
     "data": {
      "text/plain": [
       "True"
      ]
     },
     "execution_count": 7,
     "metadata": {},
     "output_type": "execute_result"
    }
   ],
   "source": [
    "np.allclose(np_tensorprod, tf_tensorprod)"
   ]
  }
 ],
 "metadata": {
  "kernelspec": {
   "display_name": "Python 3",
   "language": "python",
   "name": "python3"
  },
  "language_info": {
   "codemirror_mode": {
    "name": "ipython",
    "version": 3
   },
   "file_extension": ".py",
   "mimetype": "text/x-python",
   "name": "python",
   "nbconvert_exporter": "python",
   "pygments_lexer": "ipython3",
   "version": "3.7.3"
  }
 },
 "nbformat": 4,
 "nbformat_minor": 2
}
